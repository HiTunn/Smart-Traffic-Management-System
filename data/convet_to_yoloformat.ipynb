{
 "cells": [
  {
   "cell_type": "code",
   "execution_count": 11,
   "metadata": {},
   "outputs": [
    {
     "name": "stdout",
     "output_type": "stream",
     "text": [
      "Tổng số file  =  15396\n",
      "Số bản ghi validation =  3079\n",
      "done train\n",
      "done\n"
     ]
    }
   ],
   "source": [
    "import shutil\n",
    "import os\n",
    "import random\n",
    "import pickle\n",
    "\n",
    "raw_folder = \"D:/Tunf/NOO/DATN/data/daytime\"\n",
    "file_list =[]\n",
    "for i in os.listdir(raw_folder):\n",
    "    if i.endswith(\"jpg\"):\n",
    "        file_list.append(i)\n",
    "\n",
    "\n",
    "total_files = len(file_list) # Tổng số file có nhãn trong thư mục train\n",
    "print(\"Tổng số file  = \", total_files)\n",
    "\n",
    "# Anh em tạo sẵn thư mục này nếu chưa có nhé :D Mình khỏi viết hàm check ở đây hehe\n",
    "train_folder = \"D:/Tunf/NOO/DATN/data/yolo_data_daytime/images/train\"\n",
    "val_folder = \"D:/Tunf/NOO/DATN/data/yolo_data_daytime/images/val\"\n",
    "\n",
    "train_labels_folder = \"D:/Tunf/NOO/DATN/data/yolo_data_daytime/labels/train\"\n",
    "val_labels_folder = \"D:/Tunf/NOO/DATN/data/yolo_data_daytime/labels/val\"\n",
    "\n",
    "\n",
    "# Tạo ra index cho train, val\n",
    "total_files_validation = int(0.2 * total_files) # 20% cho validation\n",
    "validaiton_files = random.choices(file_list, k=total_files_validation)\n",
    "print(\"Số bản ghi validation = \" , len(validaiton_files))\n",
    "\n",
    "# Copy images và labels to train folder\n",
    "for file in file_list:\n",
    "    if file not in validaiton_files:\n",
    "     \n",
    "        # print(\"Train file \", file)\n",
    "        # Copy images\n",
    "        shutil.copy(os.path.join(raw_folder, file), os.path.join(train_folder, file))\n",
    "\n",
    "        # Copy labels\n",
    "        shutil.copy(os.path.join(raw_folder, file[:-3] + 'txt'), os.path.join(train_labels_folder, file[:-3] + 'txt'))\n",
    "\n",
    "print(\"done train\")\n",
    "# Copy images và labels to validation folder\n",
    "for file in validaiton_files:\n",
    "    # break\n",
    "    # print(\"Validation file \", file)\n",
    "    # Copy images\n",
    "    shutil.copy(os.path.join(raw_folder, file), os.path.join(val_folder, file))\n",
    "\n",
    "    # Copy labels\n",
    "    shutil.copy(os.path.join(raw_folder, file[:-3] + 'txt'), os.path.join(val_labels_folder, file[:-3] + 'txt'))\n",
    "print(\"done\")\n",
    "\n"
   ]
  },
  {
   "cell_type": "code",
   "execution_count": 4,
   "metadata": {},
   "outputs": [
    {
     "data": {
      "text/plain": [
       "'D:/Tunf/NOO/DATN/data/daytime/src_1_frame_31_jpg.rf.202e36c57846233662aa0390e98ecee4.txt'"
      ]
     },
     "execution_count": 4,
     "metadata": {},
     "output_type": "execute_result"
    }
   ],
   "source": [
    "file_ = 'D:/Tunf/NOO/DATN/data/daytime/src_1_frame_31_jpg.rf.202e36c57846233662aa0390e98ecee4.jpg'\n",
    "file_[:-3] + 'txt'"
   ]
  }
 ],
 "metadata": {
  "kernelspec": {
   "display_name": "Python 3",
   "language": "python",
   "name": "python3"
  },
  "language_info": {
   "codemirror_mode": {
    "name": "ipython",
    "version": 3
   },
   "file_extension": ".py",
   "mimetype": "text/x-python",
   "name": "python",
   "nbconvert_exporter": "python",
   "pygments_lexer": "ipython3",
   "version": "3.8.8"
  },
  "orig_nbformat": 4
 },
 "nbformat": 4,
 "nbformat_minor": 2
}
